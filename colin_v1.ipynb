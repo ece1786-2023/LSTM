{
 "cells": [
  {
   "cell_type": "code",
   "execution_count": 161,
   "outputs": [],
   "source": [
    "#import warnings\n",
    "#warnings.filterwarnings('ignore')\n",
    "from transformers import AutoTokenizer, AutoModelForCausalLM\n",
    "import torch\n",
    "import numpy as np\n",
    "import pandas as pd"
   ],
   "metadata": {
    "collapsed": false,
    "ExecuteTime": {
     "end_time": "2023-11-10T05:50:19.193495900Z",
     "start_time": "2023-11-10T05:50:18.568641900Z"
    }
   },
   "id": "66bc49d816b9c4bc"
  },
  {
   "cell_type": "markdown",
   "source": [
    "# Loading Model"
   ],
   "metadata": {
    "collapsed": false
   },
   "id": "750c512e92a3b884"
  }
 ],
 "metadata": {
  "kernelspec": {
   "display_name": "Python 3",
   "language": "python",
   "name": "python3"
  },
  "language_info": {
   "codemirror_mode": {
    "name": "ipython",
    "version": 2
   },
   "file_extension": ".py",
   "mimetype": "text/x-python",
   "name": "python",
   "nbconvert_exporter": "python",
   "pygments_lexer": "ipython2",
   "version": "2.7.6"
  }
 },
 "nbformat": 4,
 "nbformat_minor": 5
}
