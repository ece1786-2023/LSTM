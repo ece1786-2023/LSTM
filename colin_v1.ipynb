{
 "cells": [
  {
   "cell_type": "code",
   "execution_count": 161,
   "outputs": [],
   "source": [
    "#import warnings\n",
    "#warnings.filterwarnings('ignore')\n",
    "from transformers import AutoTokenizer, AutoModelForCausalLM\n",
    "import torch\n",
    "import numpy as np\n",
    "import pandas as pd"
   ],
   "metadata": {
    "collapsed": false,
    "ExecuteTime": {
     "end_time": "2023-11-10T05:50:19.193495900Z",
     "start_time": "2023-11-10T05:50:18.568641900Z"
    }
   },
   "id": "66bc49d816b9c4bc"
  },
  {
   "cell_type": "markdown",
   "source": [
    "# Loading Model"
   ],
   "metadata": {
    "collapsed": false
   },
   "id": "750c512e92a3b884"
  },
  {
   "cell_type": "code",
   "execution_count": null,
   "outputs": [],
   "source": [
    "tokenizer = AutoTokenizer.from_pretrained(\"gpt2\")\n",
    "model = AutoModelForCausalLM.from_pretrained(\"gpt2\")"
   ],
   "metadata": {
    "collapsed": false
   },
   "id": "5caab897e20d9bbf"
  },
  {
   "cell_type": "markdown",
   "source": [
    "# Load Dataset"
   ],
   "metadata": {
    "collapsed": false
   },
   "id": "f0f81dd73e944e68"
  },
  {
   "cell_type": "markdown",
   "source": [
    "# Model Training"
   ],
   "metadata": {
    "collapsed": false
   },
   "id": "2a8fdde8b991f2a9"
  },
  {
   "cell_type": "code",
   "execution_count": null,
   "outputs": [],
   "source": [
    "\n",
    "\n",
    "# Save trained model\n",
    "torch.save(model.state_dict(), 'models/model_v1.pt')"
   ],
   "metadata": {
    "collapsed": false
   },
   "id": "5d485454ae886ac8"
  },
  {
   "cell_type": "markdown",
   "source": [
    "# Output generation"
   ],
   "metadata": {
    "collapsed": false
   },
   "id": "dd54268f25122d95"
  },
  {
   "cell_type": "code",
   "execution_count": null,
   "outputs": [],
   "source": [
    "prompt = \"This is the story of Glouse, a tribal archer, from glitter world\"\n",
    "\n",
    "input_ids = tokenizer(prompt, return_tensors=\"pt\").input_ids\n",
    "# sample up to 30 tokens\n",
    "torch.manual_seed(11)\n",
    "list_out=[]\n",
    "#['Today I believe we can finally get rid of discrimination,\" said Rep. Mark Pocan (D-Wis.).\\n\\n\"Just look at the']\n",
    "for i in range (1):\n",
    "    for j in range (8):\n",
    "        outputs = model.generate(input_ids, do_sample=True, max_length=30, temperature =11.6+0.75*i,top_p=(j+1)/30,repetition_penalty=1.1)\n",
    "        list_out.append(outputs)\n",
    "\n",
    "for i in range (1):\n",
    "    for j in range (8):\n",
    "        print(\"temperature =\",11.6+0.75*i,\"top_p=\",(j+1)/30)\n",
    "        print(tokenizer.batch_decode(list_out[i*4+j], skip_special_tokens=True))"
   ],
   "metadata": {
    "collapsed": false
   },
   "id": "18e6f4d57ea4a710"
  },
  {
   "cell_type": "markdown",
   "source": [
    "# Note Area"
   ],
   "metadata": {
    "collapsed": false
   },
   "id": "c3d0f4e1db2bf892"
  },
  {
   "cell_type": "markdown",
   "source": [],
   "metadata": {
    "collapsed": false
   },
   "id": "330916891f9b4aec"
  }
 ],
 "metadata": {
  "kernelspec": {
   "display_name": "Python 3",
   "language": "python",
   "name": "python3"
  },
  "language_info": {
   "codemirror_mode": {
    "name": "ipython",
    "version": 2
   },
   "file_extension": ".py",
   "mimetype": "text/x-python",
   "name": "python",
   "nbconvert_exporter": "python",
   "pygments_lexer": "ipython2",
   "version": "2.7.6"
  }
 },
 "nbformat": 4,
 "nbformat_minor": 5
}
