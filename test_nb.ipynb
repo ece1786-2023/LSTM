{
 "cells": [
  {
   "cell_type": "markdown",
   "source": [
    "this notebook is for testing purpose only, it doesn't contain the code that trains the model"
   ],
   "metadata": {
    "collapsed": false
   },
   "id": "efea78032174c5e"
  },
  {
   "cell_type": "code",
   "execution_count": 9,
   "outputs": [],
   "source": [
    "#import warnings\n",
    "#warnings.filterwarnings('ignore')\n",
    "from transformers import AutoTokenizer, AutoModelForCausalLM\n",
    "import torch\n",
    "from torch.utils.data import Dataset, DataLoader\n",
    "import numpy as np\n",
    "import pandas as pd\n",
    "from sklearn.model_selection import train_test_split, KFold\n",
    "from tqdm import tqdm"
   ],
   "metadata": {
    "collapsed": false,
    "ExecuteTime": {
     "end_time": "2023-11-19T04:54:54.307464600Z",
     "start_time": "2023-11-19T04:54:54.054740600Z"
    }
   },
   "id": "7225778f2adf6b7a"
  },
  {
   "cell_type": "markdown",
   "source": [
    "# Testing Parameters"
   ],
   "metadata": {
    "collapsed": false
   },
   "id": "16f28a4374343bb9"
  },
  {
   "cell_type": "code",
   "execution_count": 37,
   "id": "initial_id",
   "metadata": {
    "collapsed": true,
    "ExecuteTime": {
     "end_time": "2023-11-19T06:51:34.019023300Z",
     "start_time": "2023-11-19T06:51:34.011204300Z"
    }
   },
   "outputs": [
    {
     "name": "stdout",
     "output_type": "stream",
     "text": [
      "using device cuda\n"
     ]
    }
   ],
   "source": [
    "model_path=\"ft1\"\n",
    "\n",
    "device = torch.device(\"cuda\" if torch.cuda.is_available() else \"cpu\")\n",
    "print(\"using device \"+str(device))\n",
    "\n",
    "num_output=15 #number of output desired"
   ]
  },
  {
   "cell_type": "markdown",
   "source": [
    "# Load Model"
   ],
   "metadata": {
    "collapsed": false
   },
   "id": "5f6f0567d1bd137e"
  },
  {
   "cell_type": "code",
   "execution_count": 33,
   "outputs": [],
   "source": [
    "# Load the fine-tuned GPT-2 tokenizer and model\n",
    "tokenizer = AutoTokenizer.from_pretrained(model_path,local_files_only=True)\n",
    "model = AutoModelForCausalLM.from_pretrained(model_path,local_files_only=True).to(device)"
   ],
   "metadata": {
    "collapsed": false,
    "ExecuteTime": {
     "end_time": "2023-11-19T06:49:58.172850200Z",
     "start_time": "2023-11-19T06:49:56.870733600Z"
    }
   },
   "id": "efb029d7711eb82c"
  },
  {
   "cell_type": "markdown",
   "source": [
    "# Generate Output"
   ],
   "metadata": {
    "collapsed": false
   },
   "id": "3be82b21a8fa8fda"
  },
  {
   "cell_type": "code",
   "execution_count": 38,
   "outputs": [
    {
     "name": "stderr",
     "output_type": "stream",
     "text": [
      "The attention mask and the pad token id were not set. As a consequence, you may observe unexpected behavior. Please pass your input's `attention_mask` to obtain reliable results.\n",
      "Setting `pad_token_id` to `eos_token_id`:50256 for open-end generation.\n"
     ]
    },
    {
     "name": "stdout",
     "output_type": "stream",
     "text": [
      "0\n"
     ]
    },
    {
     "name": "stderr",
     "output_type": "stream",
     "text": [
      "The attention mask and the pad token id were not set. As a consequence, you may observe unexpected behavior. Please pass your input's `attention_mask` to obtain reliable results.\n",
      "Setting `pad_token_id` to `eos_token_id`:50256 for open-end generation.\n",
      "The attention mask and the pad token id were not set. As a consequence, you may observe unexpected behavior. Please pass your input's `attention_mask` to obtain reliable results.\n",
      "Setting `pad_token_id` to `eos_token_id`:50256 for open-end generation.\n",
      "The attention mask and the pad token id were not set. As a consequence, you may observe unexpected behavior. Please pass your input's `attention_mask` to obtain reliable results.\n",
      "Setting `pad_token_id` to `eos_token_id`:50256 for open-end generation.\n",
      "The attention mask and the pad token id were not set. As a consequence, you may observe unexpected behavior. Please pass your input's `attention_mask` to obtain reliable results.\n",
      "Setting `pad_token_id` to `eos_token_id`:50256 for open-end generation.\n",
      "The attention mask and the pad token id were not set. As a consequence, you may observe unexpected behavior. Please pass your input's `attention_mask` to obtain reliable results.\n",
      "Setting `pad_token_id` to `eos_token_id`:50256 for open-end generation.\n",
      "The attention mask and the pad token id were not set. As a consequence, you may observe unexpected behavior. Please pass your input's `attention_mask` to obtain reliable results.\n",
      "Setting `pad_token_id` to `eos_token_id`:50256 for open-end generation.\n",
      "The attention mask and the pad token id were not set. As a consequence, you may observe unexpected behavior. Please pass your input's `attention_mask` to obtain reliable results.\n",
      "Setting `pad_token_id` to `eos_token_id`:50256 for open-end generation.\n",
      "The attention mask and the pad token id were not set. As a consequence, you may observe unexpected behavior. Please pass your input's `attention_mask` to obtain reliable results.\n",
      "Setting `pad_token_id` to `eos_token_id`:50256 for open-end generation.\n",
      "The attention mask and the pad token id were not set. As a consequence, you may observe unexpected behavior. Please pass your input's `attention_mask` to obtain reliable results.\n",
      "Setting `pad_token_id` to `eos_token_id`:50256 for open-end generation.\n",
      "The attention mask and the pad token id were not set. As a consequence, you may observe unexpected behavior. Please pass your input's `attention_mask` to obtain reliable results.\n",
      "Setting `pad_token_id` to `eos_token_id`:50256 for open-end generation.\n",
      "The attention mask and the pad token id were not set. As a consequence, you may observe unexpected behavior. Please pass your input's `attention_mask` to obtain reliable results.\n",
      "Setting `pad_token_id` to `eos_token_id`:50256 for open-end generation.\n",
      "The attention mask and the pad token id were not set. As a consequence, you may observe unexpected behavior. Please pass your input's `attention_mask` to obtain reliable results.\n",
      "Setting `pad_token_id` to `eos_token_id`:50256 for open-end generation.\n",
      "The attention mask and the pad token id were not set. As a consequence, you may observe unexpected behavior. Please pass your input's `attention_mask` to obtain reliable results.\n",
      "Setting `pad_token_id` to `eos_token_id`:50256 for open-end generation.\n",
      "The attention mask and the pad token id were not set. As a consequence, you may observe unexpected behavior. Please pass your input's `attention_mask` to obtain reliable results.\n",
      "Setting `pad_token_id` to `eos_token_id`:50256 for open-end generation.\n"
     ]
    },
    {
     "name": "stdout",
     "output_type": "stream",
     "text": [
      "['This is the story of [PAWN_nameDef], a combat medic: After escaping an orbital war, [PAWN] joined a squad that']\n",
      "[\"This is the story of [PAWN_nameDef], a warlordess' child: Born in a seedy society, [PAWN]\"]\n",
      "['This is the story of [PAWN_nameDef], a urbworld nerd: Growing up in an abandoned industrial world, [PAWN_']\n",
      "['This is the story of [PAWN_nameDef], a engineer: [PAWN_nameDef] was an engineer employed in mines and working']\n",
      "['This is the story of [PAWN_nameDef], a tinkerer: Spending most of [PAWN_possessive] adulthood']\n",
      "['This is the story of [PAWN_nameDef], a space janitor: After an explosion on a construction site, [PAWN_name']\n",
      "[\"This is the story of [PAWN_nameDef], a frontier child: It's always war on hills and mountains. Every kid has a story\"]\n",
      "[\"This is the story of [PAWN_nameDef], a glitterworld tech prodigy: Born on an urbworld in the early '90\"]\n",
      "['This is the story of [PAWN_nameDef], a combat fighter: Raised by guns and war, [PAWN_nameDef]']\n",
      "['This is the story of [PAWN_nameDef], a sole survivor: After escaping a slaver camp on an uninhabited world, [']\n",
      "['This is the story of [PAWN_nameDef], a navy tech officer: As a military science officer, an unethical man was in charge of']\n",
      "['This is the story of [PAWN_nameDef], a war refugee: Born in a war-ravaged home, [PAWN] never']\n",
      "['This is the story of [PAWN_nameDef], a ranger: Born on an urbworld, [PAWN_nameDef] learned']\n",
      "['This is the story of [PAWN_nameDef], a space navy technician: Interstellar warfare, such battles for air space and on land quickly became']\n",
      "['This is the story of [PAWN_nameDef], a space scientist: As an engineer, Lester set out on a scientific journey through space.']\n"
     ]
    }
   ],
   "source": [
    "prompt =\"This is the story\"# of [PAWN_nameDef], a game developer, \"\n",
    "input_ids = tokenizer(prompt, return_tensors=\"pt\").input_ids.to(device)\n",
    "\n",
    "print(input_ids.get_device())\n",
    "\n",
    "\n",
    "# sample up to 30 tokens\n",
    "#torch.manual_seed(11)\n",
    "list_out=[]\n",
    "#['Today I believe we can finally get rid of discrimination,\" said Rep. Mark Pocan (D-Wis.).\\n\\n\"Just look at the']\n",
    "for i in range (num_output):\n",
    "    outputs = model.generate(input_ids, do_sample=True, max_length=30, temperature =0.8+0.03*i,top_p=1,repetition_penalty=1.1)\n",
    "    list_out.append(outputs)\n",
    "\n",
    "\n",
    "for i in range (num_output):\n",
    "    print(tokenizer.batch_decode(list_out[i], skip_special_tokens=True))"
   ],
   "metadata": {
    "collapsed": false,
    "ExecuteTime": {
     "end_time": "2023-11-19T06:51:48.972642500Z",
     "start_time": "2023-11-19T06:51:43.743498800Z"
    }
   },
   "id": "b879e94ae8840ffe"
  },
  {
   "cell_type": "code",
   "execution_count": null,
   "outputs": [],
   "source": [],
   "metadata": {
    "collapsed": false
   },
   "id": "f09bf6d382d10a07"
  }
 ],
 "metadata": {
  "kernelspec": {
   "display_name": "Python 3",
   "language": "python",
   "name": "python3"
  },
  "language_info": {
   "codemirror_mode": {
    "name": "ipython",
    "version": 2
   },
   "file_extension": ".py",
   "mimetype": "text/x-python",
   "name": "python",
   "nbconvert_exporter": "python",
   "pygments_lexer": "ipython2",
   "version": "2.7.6"
  }
 },
 "nbformat": 4,
 "nbformat_minor": 5
}
