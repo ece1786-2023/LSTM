{
 "cells": [
  {
   "cell_type": "code",
   "execution_count": null,
   "id": "initial_id",
   "metadata": {
    "collapsed": true
   },
   "outputs": [],
   "source": [
    "# coding:utf-8\n",
    "'''\n",
    "**************************************************\n",
    "@File   ：LSTM -> test\n",
    "@IDE    ：PyCharm\n",
    "@Author ：Tianze Zhang\n",
    "@Desc   , \n",
    "@Date   ：2023/11/20 14:54\n",
    "**************************************************\n",
    "'''\n",
    "from transformers import AutoTokenizer, AutoModelForCausalLM\n",
    "import torch\n",
    "from torch.utils.data import Dataset, DataLoader\n",
    "import numpy as np\n",
    "import pandas as pd\n",
    "from sklearn.model_selection import train_test_split, KFold\n",
    "from tqdm import tqdm\n",
    "\n",
    "model_path = \"models/ft1\"\n",
    "device = torch.device(\"cuda\" if torch.cuda.is_available() else \"cpu\")\n",
    "print(\"using device \" + str(device))\n",
    "num_output = 100  # number of output desired\n",
    "\n",
    "# tokenizer = AutoTokenizer.from_pretrained(model_path, local_files_only=True)\n",
    "# model = AutoModelForCausalLM.from_pretrained(model_path, local_files_only=True).to(device)\n",
    "tokenizer = AutoTokenizer.from_pretrained('gpt2-large')\n",
    "model = AutoModelForCausalLM.from_pretrained('gpt2-large').to(device)\n",
    "\n",
    "prompt = \"This is the story of [PAWN_nameDef], a\"  # housemate: \"\n",
    "input_ids = tokenizer(prompt, return_tensors=\"pt\").input_ids.to(device)\n",
    "\n",
    "print(input_ids.get_device())\n",
    "\n",
    "# sample up to 30 tokens\n",
    "# torch.manual_seed(11)\n",
    "list_out = []\n",
    "sentence_out = []\n",
    "# ['Today I believe we can finally get rid of discrimination,\" said Rep. Mark Pocan (D-Wis.).\\n\\n\"Just look at the']\n",
    "for i in range(num_output):\n",
    "    outputs = model.generate(input_ids, do_sample=True, max_length=70, temperature=0.8 + 0.03 * i, top_p=1,\n",
    "                             repetition_penalty=1)\n",
    "    # TODO output length\n",
    "    list_out.append(outputs)\n",
    "\n",
    "for i in range(num_output):\n",
    "    generate_sentence = tokenizer.batch_decode(list_out[i], skip_special_tokens=True)\n",
    "    sentence_out.append(generate_sentence)\n",
    "df = pd.DataFrame(sentence_out)\n",
    "df.to_pickle('models/gpt2-large.pkl')"
   ]
  }
 ],
 "metadata": {
  "kernelspec": {
   "display_name": "Python 3",
   "language": "python",
   "name": "python3"
  },
  "language_info": {
   "codemirror_mode": {
    "name": "ipython",
    "version": 2
   },
   "file_extension": ".py",
   "mimetype": "text/x-python",
   "name": "python",
   "nbconvert_exporter": "python",
   "pygments_lexer": "ipython2",
   "version": "2.7.6"
  }
 },
 "nbformat": 4,
 "nbformat_minor": 5
}
