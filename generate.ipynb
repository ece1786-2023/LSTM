{
 "cells": [
  {
   "cell_type": "markdown",
   "source": [
    "this notebook is for testing purpose only, it doesn't contain the code that trains the model"
   ],
   "metadata": {
    "collapsed": false
   },
   "id": "efea78032174c5e"
  },
  {
   "cell_type": "code",
   "execution_count": 1,
   "outputs": [],
   "source": [
    "#import warnings\n",
    "#warnings.filterwarnings('ignore')\n",
    "from transformers import AutoTokenizer, AutoModelForCausalLM\n",
    "import torch\n",
    "from torch.utils.data import Dataset, DataLoader\n",
    "import numpy as np\n",
    "import pandas as pd\n",
    "from sklearn.model_selection import train_test_split, KFold\n",
    "from tqdm import tqdm"
   ],
   "metadata": {
    "collapsed": false,
    "ExecuteTime": {
     "end_time": "2023-11-19T20:03:27.601993900Z",
     "start_time": "2023-11-19T20:03:25.266758600Z"
    }
   },
   "id": "7225778f2adf6b7a"
  },
  {
   "cell_type": "markdown",
   "source": [
    "# Testing Parameters"
   ],
   "metadata": {
    "collapsed": false
   },
   "id": "16f28a4374343bb9"
  },
  {
   "cell_type": "code",
   "execution_count": 4,
   "id": "initial_id",
   "metadata": {
    "collapsed": true,
    "ExecuteTime": {
     "end_time": "2023-11-19T20:03:47.083836200Z",
     "start_time": "2023-11-19T20:03:47.078386900Z"
    }
   },
   "outputs": [
    {
     "name": "stdout",
     "output_type": "stream",
     "text": [
      "using device cuda\n"
     ]
    }
   ],
   "source": [
    "model_path=\"ft2\"\n",
    "\n",
    "device = torch.device(\"cuda\" if torch.cuda.is_available() else \"cpu\")\n",
    "print(\"using device \"+str(device))\n",
    "\n",
    "num_output=15 #number of output desired"
   ]
  },
  {
   "cell_type": "markdown",
   "source": [
    "# Load Model"
   ],
   "metadata": {
    "collapsed": false
   },
   "id": "5f6f0567d1bd137e"
  },
  {
   "cell_type": "code",
   "execution_count": 5,
   "outputs": [],
   "source": [
    "# Load the fine-tuned GPT-2 tokenizer and model\n",
    "tokenizer = AutoTokenizer.from_pretrained(model_path,local_files_only=True)\n",
    "model = AutoModelForCausalLM.from_pretrained(model_path,local_files_only=True).to(device)\n",
    "\n",
    "#TODO baseline model for comparison"
   ],
   "metadata": {
    "collapsed": false,
    "ExecuteTime": {
     "end_time": "2023-11-19T20:03:49.045530400Z",
     "start_time": "2023-11-19T20:03:47.375534Z"
    }
   },
   "id": "efb029d7711eb82c"
  },
  {
   "cell_type": "markdown",
   "source": [
    "# Generate Output"
   ],
   "metadata": {
    "collapsed": false
   },
   "id": "3be82b21a8fa8fda"
  },
  {
   "cell_type": "code",
   "execution_count": 12,
   "outputs": [
    {
     "name": "stderr",
     "output_type": "stream",
     "text": [
      "The attention mask and the pad token id were not set. As a consequence, you may observe unexpected behavior. Please pass your input's `attention_mask` to obtain reliable results.\n",
      "Setting `pad_token_id` to `eos_token_id`:50256 for open-end generation.\n"
     ]
    },
    {
     "name": "stdout",
     "output_type": "stream",
     "text": [
      "0\n"
     ]
    },
    {
     "name": "stderr",
     "output_type": "stream",
     "text": [
      "The attention mask and the pad token id were not set. As a consequence, you may observe unexpected behavior. Please pass your input's `attention_mask` to obtain reliable results.\n",
      "Setting `pad_token_id` to `eos_token_id`:50256 for open-end generation.\n",
      "The attention mask and the pad token id were not set. As a consequence, you may observe unexpected behavior. Please pass your input's `attention_mask` to obtain reliable results.\n",
      "Setting `pad_token_id` to `eos_token_id`:50256 for open-end generation.\n",
      "The attention mask and the pad token id were not set. As a consequence, you may observe unexpected behavior. Please pass your input's `attention_mask` to obtain reliable results.\n",
      "Setting `pad_token_id` to `eos_token_id`:50256 for open-end generation.\n",
      "The attention mask and the pad token id were not set. As a consequence, you may observe unexpected behavior. Please pass your input's `attention_mask` to obtain reliable results.\n",
      "Setting `pad_token_id` to `eos_token_id`:50256 for open-end generation.\n",
      "The attention mask and the pad token id were not set. As a consequence, you may observe unexpected behavior. Please pass your input's `attention_mask` to obtain reliable results.\n",
      "Setting `pad_token_id` to `eos_token_id`:50256 for open-end generation.\n",
      "The attention mask and the pad token id were not set. As a consequence, you may observe unexpected behavior. Please pass your input's `attention_mask` to obtain reliable results.\n",
      "Setting `pad_token_id` to `eos_token_id`:50256 for open-end generation.\n",
      "The attention mask and the pad token id were not set. As a consequence, you may observe unexpected behavior. Please pass your input's `attention_mask` to obtain reliable results.\n",
      "Setting `pad_token_id` to `eos_token_id`:50256 for open-end generation.\n",
      "The attention mask and the pad token id were not set. As a consequence, you may observe unexpected behavior. Please pass your input's `attention_mask` to obtain reliable results.\n",
      "Setting `pad_token_id` to `eos_token_id`:50256 for open-end generation.\n",
      "The attention mask and the pad token id were not set. As a consequence, you may observe unexpected behavior. Please pass your input's `attention_mask` to obtain reliable results.\n",
      "Setting `pad_token_id` to `eos_token_id`:50256 for open-end generation.\n",
      "The attention mask and the pad token id were not set. As a consequence, you may observe unexpected behavior. Please pass your input's `attention_mask` to obtain reliable results.\n",
      "Setting `pad_token_id` to `eos_token_id`:50256 for open-end generation.\n",
      "The attention mask and the pad token id were not set. As a consequence, you may observe unexpected behavior. Please pass your input's `attention_mask` to obtain reliable results.\n",
      "Setting `pad_token_id` to `eos_token_id`:50256 for open-end generation.\n",
      "The attention mask and the pad token id were not set. As a consequence, you may observe unexpected behavior. Please pass your input's `attention_mask` to obtain reliable results.\n",
      "Setting `pad_token_id` to `eos_token_id`:50256 for open-end generation.\n",
      "The attention mask and the pad token id were not set. As a consequence, you may observe unexpected behavior. Please pass your input's `attention_mask` to obtain reliable results.\n",
      "Setting `pad_token_id` to `eos_token_id`:50256 for open-end generation.\n",
      "The attention mask and the pad token id were not set. As a consequence, you may observe unexpected behavior. Please pass your input's `attention_mask` to obtain reliable results.\n",
      "Setting `pad_token_id` to `eos_token_id`:50256 for open-end generation.\n"
     ]
    },
    {
     "name": "stdout",
     "output_type": "stream",
     "text": [
      "['This is the story of [PAWN_nameDef], a herbalist: [PAWN_nameDef] lived in the forest near a village']\n",
      "['This is the story of [PAWN_nameDef], a navy scientist: Interstellar warfare is won by technology, so glitterworld navies are always']\n",
      "['This is the story of [PAWN_nameDef], a [PAWN_possessive] busy job and numerous nearby fast-food']\n",
      "['This is the story of [PAWN_nameDef], a architect: [PAWN_nameDef] designed and constructed buildings. On [PA']\n",
      "['This is the story of [PAWN_nameDef], a bodyguard: [PAWN_nameDef] protected whoever paid [PAWN_']\n",
      "['This is the story of [PAWN_nameDef], a architect: [PAWN_nameDef] designed and constructed buildings. On [PA']\n",
      "[\"This is the story of [PAWN_nameDef], a [PAWN_pronoun] didn't learn to read until age nine.: nan\"]\n",
      "['This is the story of [PAWN_nameDef], a medieval lordling: [PAWN_nameDef] was a minor noble in an']\n",
      "['This is the story of [PAWN_nameDef], a medieval doctor: [PAWN_nameDef] worked as a doctor on a medieval']\n",
      "['This is the story of [PAWN_nameDef], a medieval farm oaf: Tilling, hoeing, guiding ox carts, pushing']\n",
      "['This is the story of [PAWN_nameDef], a [PAWN_pronoun] refused to do any dumb labour [PAWN_']\n",
      "['This is the story of [PAWN_nameDef], a housemate: As an adult, [PAWN_nameDef] kept house and']\n",
      "['This is the story of [PAWN_nameDef], a sculptor: [PAWN_nameDef] started off sculpting person-sized']\n",
      "['This is the story of [PAWN_nameDef], a navy scientist: Interstellar warfare is won by technology, so glitterworld navies are always']\n",
      "['This is the story of [PAWN_nameDef], a sculptor: [PAWN_nameDef] started off sculpting person-sized']\n"
     ]
    }
   ],
   "source": [
    "prompt =\"This is the story of [PAWN_nameDef], a\"# housemate: \"\n",
    "input_ids = tokenizer(prompt, return_tensors=\"pt\").input_ids.to(device)\n",
    "\n",
    "print(input_ids.get_device())\n",
    "\n",
    "\n",
    "# sample up to 30 tokens\n",
    "#torch.manual_seed(11)\n",
    "list_out=[]\n",
    "#['Today I believe we can finally get rid of discrimination,\" said Rep. Mark Pocan (D-Wis.).\\n\\n\"Just look at the']\n",
    "for i in range (num_output):\n",
    "    outputs = model.generate(input_ids, do_sample=True, max_length=30, temperature =0.8+0.03*i,top_p=1,repetition_penalty=1)\n",
    "    #TODO output length\n",
    "    list_out.append(outputs)\n",
    "\n",
    "\n",
    "for i in range (num_output):\n",
    "    print(tokenizer.batch_decode(list_out[i], skip_special_tokens=True))"
   ],
   "metadata": {
    "collapsed": false,
    "ExecuteTime": {
     "end_time": "2023-11-19T20:14:21.536008800Z",
     "start_time": "2023-11-19T20:14:18.985482900Z"
    }
   },
   "id": "b879e94ae8840ffe"
  },
  {
   "cell_type": "code",
   "execution_count": null,
   "outputs": [],
   "source": [],
   "metadata": {
    "collapsed": false
   },
   "id": "f09bf6d382d10a07"
  }
 ],
 "metadata": {
  "kernelspec": {
   "display_name": "Python 3",
   "language": "python",
   "name": "python3"
  },
  "language_info": {
   "codemirror_mode": {
    "name": "ipython",
    "version": 2
   },
   "file_extension": ".py",
   "mimetype": "text/x-python",
   "name": "python",
   "nbconvert_exporter": "python",
   "pygments_lexer": "ipython2",
   "version": "2.7.6"
  }
 },
 "nbformat": 4,
 "nbformat_minor": 5
}
