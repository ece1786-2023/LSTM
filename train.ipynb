{
 "cells": [
  {
   "cell_type": "code",
   "execution_count": 1,
   "outputs": [],
   "source": [
    "#import warnings\n",
    "#warnings.filterwarnings('ignore')\n",
    "from transformers import AutoTokenizer, AutoModelForCausalLM, AdamW\n",
    "import torch\n",
    "from torch.utils.data import Dataset, DataLoader\n",
    "import numpy as np\n",
    "import pandas as pd\n",
    "from sklearn.model_selection import train_test_split, KFold\n",
    "from tqdm import tqdm\n",
    "import matplotlib.pyplot as plt"
   ],
   "metadata": {
    "collapsed": false,
    "ExecuteTime": {
     "end_time": "2023-11-19T19:43:45.315251400Z",
     "start_time": "2023-11-19T19:43:41.853227900Z"
    }
   },
   "id": "66bc49d816b9c4bc"
  },
  {
   "cell_type": "markdown",
   "source": [
    "# Hyperparameters"
   ],
   "metadata": {
    "collapsed": false
   },
   "id": "db232cce0b08135b"
  },
  {
   "cell_type": "code",
   "execution_count": 2,
   "outputs": [
    {
     "name": "stdout",
     "output_type": "stream",
     "text": [
      "using device cuda\n"
     ]
    }
   ],
   "source": [
    "# Add special tokens\n",
    "token_name = \"[PAWN_nameDef]\"\n",
    "token_possessive =\"[PAWN_possessive]\"\n",
    "token_pronoun =\"[PAWN_pronoun]\"\n",
    "\n",
    "# Fine-tuning parameters\n",
    "epochs = 10\n",
    "learning_rate = 5e-5\n",
    "\n",
    "device = torch.device(\"cuda\" if torch.cuda.is_available() else \"cpu\")\n",
    "print(\"using device \"+str(device))\n",
    "\n",
    "#the model to load from\n",
    "model_name_load=\"gpt2\" #get a fresh gpt-2 model from hugging face\n",
    "#model_name_load=\"ft1\" #load a previously saved model\n",
    "\n",
    "#the model to save as\n",
    "model_name_save=\"ft1\" #get a fresh gpt-2 model from hugging face\n",
    "\n",
    "# data_file_path=\"raw_data/backstory.csv\"\n",
    "data_file_path=\"raw_data/backstory.pkl\""
   ],
   "metadata": {
    "collapsed": false,
    "ExecuteTime": {
     "end_time": "2023-11-19T19:43:45.961526500Z",
     "start_time": "2023-11-19T19:43:45.911770500Z"
    }
   },
   "id": "2ae652ef10fd894e"
  },
  {
   "cell_type": "markdown",
   "source": [
    "# Loading \n",
    "## Load Tokenizer and Model"
   ],
   "metadata": {
    "collapsed": false
   },
   "id": "750c512e92a3b884"
  },
  {
   "cell_type": "code",
   "execution_count": 3,
   "outputs": [],
   "source": [
    "tokenizer = AutoTokenizer.from_pretrained(model_name_load)\n",
    "#TODO attention mask and the pad token id\n",
    "#The attention mask and the pad token id were not set. As a consequence, you may observe unexpected behavior. Please pass your input's `attention_mask` to obtain reliable results.\n",
    "#Setting `pad_token_id` to `eos_token_id`:50256 for open-end generation.\n",
    "model = AutoModelForCausalLM.from_pretrained(model_name_load).to(device)"
   ],
   "metadata": {
    "collapsed": false,
    "ExecuteTime": {
     "end_time": "2023-11-19T19:43:50.066746200Z",
     "start_time": "2023-11-19T19:43:47.393830600Z"
    }
   },
   "id": "5caab897e20d9bbf"
  },
  {
   "cell_type": "markdown",
   "source": [
    "## Dataset Class"
   ],
   "metadata": {
    "collapsed": false
   },
   "id": "f1dda391e0c5f9e0"
  },
  {
   "cell_type": "code",
   "execution_count": 4,
   "outputs": [],
   "source": [
    "# Define a custom dataset class for your sentences\n",
    "class RimWordDS(Dataset):\n",
    "    def __init__(self, sentences, tokenizer, max_length=128):\n",
    "        self.sentences = sentences\n",
    "        self.tokenizer = tokenizer\n",
    "        self.max_length = max_length\n",
    "\n",
    "    def __len__(self):\n",
    "        return len(self.sentences)\n",
    "\n",
    "    def __getitem__(self, idx):\n",
    "        sentence = str(self.sentences[idx])\n",
    "        inputs = self.tokenizer(sentence, return_tensors=\"pt\", max_length=self.max_length, truncation=True)\n",
    "        return inputs"
   ],
   "metadata": {
    "collapsed": false,
    "ExecuteTime": {
     "end_time": "2023-11-19T19:43:51.097195300Z",
     "start_time": "2023-11-19T19:43:51.086088100Z"
    }
   },
   "id": "a2934f38d1312178"
  },
  {
   "cell_type": "markdown",
   "source": [
    "## Load Dataset"
   ],
   "metadata": {
    "collapsed": false
   },
   "id": "f0f81dd73e944e68"
  },
  {
   "cell_type": "code",
   "execution_count": 7,
   "outputs": [
    {
     "data": {
      "text/plain": "                    Title                   Name  \\\n0               sewer kid             SewerKid57   \n1          navy scientist        NavyScientist52   \n2     glitterworld empath   GlitterworldEmpath26   \n3    glitterworld surgeon  GlitterworldSurgeon15   \n4                novelist              Novelist7   \n..                    ...                    ...   \n757        budding artist        BuddingArtist44   \n758                 bully                Bully70   \n759              bookworm             Bookworm19   \n760                  punk   TynanCustomChildhood   \n761        game developer   TynanCustomAdulthood   \n\n                                                  Desc  \\\n0    [PAWN_nameDef] grew up in the sludge-smeared s...   \n1    Interstellar warfare is won by technology, so ...   \n2    [PAWN_nameDef] had an amazing ability to relat...   \n3    [PAWN_nameDef] worked as a surgeon on a world ...   \n4    [PAWN_nameDef] lived on a glitterworld, pennin...   \n..                                                 ...   \n757  [PAWN_nameDef] had a knack for art. Traders an...   \n758  [PAWN_nameDef] tormented other children for fu...   \n759  Rather than socialize with the other children,...   \n760  [PAWN_nameDef] spent his childhood selling kno...   \n761  [PAWN_nameDef] was an independent game develop...   \n\n                                  Attribute  \n0                               Cooking+2\\t  \n1                          Intellectual+8\\t  \n2                    Social+8\\tMedicine+2\\t  \n3        Artistic+5\\tMedicine+3\\tSocial+1\\t  \n4    Construction-5\\tMining-5\\tArtistic+8\\t  \n..                                      ...  \n757                            Artistic+5\\t  \n758                   Melee+2\\tShooting+3\\t  \n759  Intellectual+6\\tArtistic+2\\tSocial-3\\t  \n760              Intellectual-2\\tSocial-2\\t  \n761              Construction-2\\tMining-2\\t  \n\n[762 rows x 4 columns]",
      "text/html": "<div>\n<style scoped>\n    .dataframe tbody tr th:only-of-type {\n        vertical-align: middle;\n    }\n\n    .dataframe tbody tr th {\n        vertical-align: top;\n    }\n\n    .dataframe thead th {\n        text-align: right;\n    }\n</style>\n<table border=\"1\" class=\"dataframe\">\n  <thead>\n    <tr style=\"text-align: right;\">\n      <th></th>\n      <th>Title</th>\n      <th>Name</th>\n      <th>Desc</th>\n      <th>Attribute</th>\n    </tr>\n  </thead>\n  <tbody>\n    <tr>\n      <th>0</th>\n      <td>sewer kid</td>\n      <td>SewerKid57</td>\n      <td>[PAWN_nameDef] grew up in the sludge-smeared s...</td>\n      <td>Cooking+2\\t</td>\n    </tr>\n    <tr>\n      <th>1</th>\n      <td>navy scientist</td>\n      <td>NavyScientist52</td>\n      <td>Interstellar warfare is won by technology, so ...</td>\n      <td>Intellectual+8\\t</td>\n    </tr>\n    <tr>\n      <th>2</th>\n      <td>glitterworld empath</td>\n      <td>GlitterworldEmpath26</td>\n      <td>[PAWN_nameDef] had an amazing ability to relat...</td>\n      <td>Social+8\\tMedicine+2\\t</td>\n    </tr>\n    <tr>\n      <th>3</th>\n      <td>glitterworld surgeon</td>\n      <td>GlitterworldSurgeon15</td>\n      <td>[PAWN_nameDef] worked as a surgeon on a world ...</td>\n      <td>Artistic+5\\tMedicine+3\\tSocial+1\\t</td>\n    </tr>\n    <tr>\n      <th>4</th>\n      <td>novelist</td>\n      <td>Novelist7</td>\n      <td>[PAWN_nameDef] lived on a glitterworld, pennin...</td>\n      <td>Construction-5\\tMining-5\\tArtistic+8\\t</td>\n    </tr>\n    <tr>\n      <th>...</th>\n      <td>...</td>\n      <td>...</td>\n      <td>...</td>\n      <td>...</td>\n    </tr>\n    <tr>\n      <th>757</th>\n      <td>budding artist</td>\n      <td>BuddingArtist44</td>\n      <td>[PAWN_nameDef] had a knack for art. Traders an...</td>\n      <td>Artistic+5\\t</td>\n    </tr>\n    <tr>\n      <th>758</th>\n      <td>bully</td>\n      <td>Bully70</td>\n      <td>[PAWN_nameDef] tormented other children for fu...</td>\n      <td>Melee+2\\tShooting+3\\t</td>\n    </tr>\n    <tr>\n      <th>759</th>\n      <td>bookworm</td>\n      <td>Bookworm19</td>\n      <td>Rather than socialize with the other children,...</td>\n      <td>Intellectual+6\\tArtistic+2\\tSocial-3\\t</td>\n    </tr>\n    <tr>\n      <th>760</th>\n      <td>punk</td>\n      <td>TynanCustomChildhood</td>\n      <td>[PAWN_nameDef] spent his childhood selling kno...</td>\n      <td>Intellectual-2\\tSocial-2\\t</td>\n    </tr>\n    <tr>\n      <th>761</th>\n      <td>game developer</td>\n      <td>TynanCustomAdulthood</td>\n      <td>[PAWN_nameDef] was an independent game develop...</td>\n      <td>Construction-2\\tMining-2\\t</td>\n    </tr>\n  </tbody>\n</table>\n<p>762 rows × 4 columns</p>\n</div>"
     },
     "execution_count": 7,
     "metadata": {},
     "output_type": "execute_result"
    }
   ],
   "source": [
    "# load prepocessed data\n",
    "# Load your DataFrame with sentences\n",
    "# For example, you can load your data like this:\n",
    "# df = pd.read_csv(data_file_path,encoding=\"unicode_escape\")\n",
    "# titles=df[\"Title\"]\n",
    "# sentences = df[\"Desc\"].tolist()\n",
    "# print(sentences)\n",
    "# len_data=len(titles)\n",
    "\n",
    "import pandas as pd\n",
    "# data_file_path=\"backstory.pkl\"\n",
    "df = pd.read_pickle(data_file_path)\n",
    "titles=df[\"Title\"]\n",
    "sentences = df[\"Desc\"]\n",
    "sentences = sentences.tolist()\n",
    "len_data=len(titles)\n",
    "\n",
    "for i in range(len_data):\n",
    "    #print(i,type(sentences[i]),str(sentences[i])) \n",
    "    sentences[i]=\"This is the story of [PAWN_nameDef], a \"+titles[i]+\": \"+sentences[i]\n",
    "    # TODO attributes\n",
    "\n",
    "#convert backstroy into proper prompt\n",
    "\n",
    "\n",
    "sentences_train, sentences_test = train_test_split(sentences, test_size=0.05, random_state=42)\n",
    "\n",
    "# Create a custom dataset\n",
    "dataset_train = RimWordDS(sentences_train, tokenizer)\n",
    "dataset_test = RimWordDS(sentences_test, tokenizer)\n",
    "\n",
    "# TODO cross validation?\n",
    "\"\"\"\n",
    "# Split the dataframe into train and test sets, with a test size of 0.03\n",
    "train, test = train_test_split(df, test_size=0.03, random_state=42)\n",
    "\n",
    "# Create a cross-validation iterator with 5 folds\n",
    "kf = KFold(n_splits=5, shuffle=True, random_state=42)\n",
    "\n",
    "\n",
    "print(sentences[20])\n",
    "print(sentences[21])\n",
    "print(sentences[22])\"\"\"\n",
    "\n",
    "df"
   ],
   "metadata": {
    "collapsed": false,
    "ExecuteTime": {
     "end_time": "2023-11-19T19:48:21.440789400Z",
     "start_time": "2023-11-19T19:48:21.402616300Z"
    }
   },
   "id": "3e30d10696391813"
  },
  {
   "cell_type": "markdown",
   "source": [
    "# Model Training\n",
    "## Train Model"
   ],
   "metadata": {
    "collapsed": false
   },
   "id": "2a8fdde8b991f2a9"
  },
  {
   "cell_type": "code",
   "execution_count": 8,
   "outputs": [
    {
     "name": "stderr",
     "output_type": "stream",
     "text": [
      "E:\\Anaconda\\Lib\\site-packages\\transformers\\optimization.py:411: FutureWarning: This implementation of AdamW is deprecated and will be removed in a future version. Use the PyTorch implementation torch.optim.AdamW instead, or set `no_deprecation_warning=True` to disable this warning\n",
      "  warnings.warn(\n",
      "Epoch 1/10: 100%|██████████| 723/723 [01:11<00:00, 10.11it/s, Loss=1.62] \n"
     ]
    },
    {
     "name": "stdout",
     "output_type": "stream",
     "text": [
      "Epoch  0 /10: Test loss= 1.8242541796121843\n"
     ]
    },
    {
     "name": "stderr",
     "output_type": "stream",
     "text": [
      "Epoch 2/10: 100%|██████████| 723/723 [01:13<00:00,  9.80it/s, Loss=1.31] \n"
     ]
    },
    {
     "name": "stdout",
     "output_type": "stream",
     "text": [
      "Epoch  1 /10: Test loss= 1.8971435198417077\n"
     ]
    },
    {
     "name": "stderr",
     "output_type": "stream",
     "text": [
      "Epoch 3/10: 100%|██████████| 723/723 [01:14<00:00,  9.68it/s, Loss=1.06] \n"
     ]
    },
    {
     "name": "stdout",
     "output_type": "stream",
     "text": [
      "Epoch  2 /10: Test loss= 2.0195577389154677\n"
     ]
    },
    {
     "name": "stderr",
     "output_type": "stream",
     "text": [
      "Epoch 4/10: 100%|██████████| 723/723 [01:16<00:00,  9.41it/s, Loss=0.832]\n"
     ]
    },
    {
     "name": "stdout",
     "output_type": "stream",
     "text": [
      "Epoch  3 /10: Test loss= 2.185129260405516\n"
     ]
    },
    {
     "name": "stderr",
     "output_type": "stream",
     "text": [
      "Epoch 5/10: 100%|██████████| 723/723 [01:18<00:00,  9.21it/s, Loss=0.662] \n"
     ]
    },
    {
     "name": "stdout",
     "output_type": "stream",
     "text": [
      "Epoch  4 /10: Test loss= 2.3678681453069053\n"
     ]
    },
    {
     "name": "stderr",
     "output_type": "stream",
     "text": [
      "Epoch 6/10: 100%|██████████| 723/723 [01:19<00:00,  9.13it/s, Loss=0.517] \n"
     ]
    },
    {
     "name": "stdout",
     "output_type": "stream",
     "text": [
      "Epoch  5 /10: Test loss= 2.510829604589022\n"
     ]
    },
    {
     "name": "stderr",
     "output_type": "stream",
     "text": [
      "Epoch 7/10: 100%|██████████| 723/723 [01:21<00:00,  8.84it/s, Loss=0.418] \n"
     ]
    },
    {
     "name": "stdout",
     "output_type": "stream",
     "text": [
      "Epoch  6 /10: Test loss= 2.6898797230842786\n"
     ]
    },
    {
     "name": "stderr",
     "output_type": "stream",
     "text": [
      "Epoch 8/10: 100%|██████████| 723/723 [01:24<00:00,  8.56it/s, Loss=0.34]  \n"
     ]
    },
    {
     "name": "stdout",
     "output_type": "stream",
     "text": [
      "Epoch  7 /10: Test loss= 2.717543834295028\n"
     ]
    },
    {
     "name": "stderr",
     "output_type": "stream",
     "text": [
      "Epoch 9/10: 100%|██████████| 723/723 [01:22<00:00,  8.71it/s, Loss=0.29]  \n"
     ]
    },
    {
     "name": "stdout",
     "output_type": "stream",
     "text": [
      "Epoch  8 /10: Test loss= 2.77341178441659\n"
     ]
    },
    {
     "name": "stderr",
     "output_type": "stream",
     "text": [
      "Epoch 10/10: 100%|██████████| 723/723 [01:24<00:00,  8.53it/s, Loss=0.251] \n"
     ]
    },
    {
     "name": "stdout",
     "output_type": "stream",
     "text": [
      "Epoch  9 /10: Test loss= 2.8852270199702335\n"
     ]
    }
   ],
   "source": [
    "# Add custom tokens to tokenizer\n",
    "#tokenizer.add_tokens([token_name,token_possessive,token_pronoun])\n",
    "\"\"\"model.resize_token_embeddings(len(tokenizer))\n",
    "\n",
    "# five fold cross validation\n",
    "# Loop over the train set and the cross-validation iterator\n",
    "for train_index, val_index in kf.split(train):\n",
    "    # Get the train and validation sets for each fold\n",
    "    train_fold = train.iloc[train_index]\n",
    "    val_fold = train.iloc[val_index]\n",
    "    # Training process\n",
    "\n",
    "train_fold\"\"\"\n",
    "\n",
    "# Set up DataLoader\n",
    "dataloader_train = DataLoader(dataset_train, batch_size=1, shuffle=True)\n",
    "dataloader_test = DataLoader(dataset_test, batch_size=1, shuffle=True)\n",
    "#TODO padding to allow batching\n",
    "dataloader_train_len=len(dataloader_train)\n",
    "dataloader_test_len=len(dataloader_test)\n",
    "\n",
    "\n",
    "# Set up optimizer\n",
    "optimizer = AdamW(model.parameters(), lr=learning_rate)\n",
    "#TODO optimizer selection\n",
    "\n",
    "loss_ot_train=np.zeros(epochs)\n",
    "loss_ot_test=np.zeros(epochs)\n",
    "\n",
    "# Fine-tune loop\n",
    "model.train()\n",
    "for epoch in range(epochs):\n",
    "    total_loss_train = 0\n",
    "    total_loss_test = 0\n",
    "    \n",
    "    progress_bar = tqdm(dataloader_train, desc=f\"Epoch {epoch + 1}/{epochs}\")\n",
    "    for batch in progress_bar:\n",
    "        # Move batch to device\n",
    "        batch = {key: value[0].to(device) for key, value in batch.items()}\n",
    "\n",
    "        # Forward pass\n",
    "        outputs = model(**batch, labels=batch[\"input_ids\"])\n",
    "        loss = outputs.loss\n",
    "\n",
    "        # Backward pass and optimization\n",
    "        optimizer.zero_grad()\n",
    "        loss.backward()\n",
    "        optimizer.step()\n",
    "\n",
    "        total_loss_train += loss.item()\n",
    "        # Update progress bar\n",
    "        progress_bar.set_postfix({\"Loss\": total_loss_train / dataloader_train_len})\n",
    "\n",
    "    for batch_idx, batch in enumerate(dataloader_test, 1):\n",
    "        # Move batch to device\n",
    "        batch = {key: value[0].to(device) for key, value in batch.items()}\n",
    "    \n",
    "        # Forward pass\n",
    "        outputs = model(**batch, labels=batch[\"input_ids\"])\n",
    "        loss = outputs.loss\n",
    "    \n",
    "        total_loss_test += loss.item()\n",
    "    total_loss_test /= dataloader_test_len\n",
    "    print(\"Epoch \",epoch,\"/10: Test loss=\",total_loss_test)\n",
    "    \n",
    "    #record loss of the epoch\n",
    "    loss_ot_train[epoch]=total_loss_train/dataloader_train_len\n",
    "    loss_ot_test[epoch]=total_loss_test"
   ],
   "metadata": {
    "collapsed": false,
    "ExecuteTime": {
     "end_time": "2023-11-19T20:01:40.929368600Z",
     "start_time": "2023-11-19T19:48:23.057510Z"
    }
   },
   "id": "5d485454ae886ac8"
  },
  {
   "cell_type": "markdown",
   "source": [
    "## Plot Loss"
   ],
   "metadata": {
    "collapsed": false
   },
   "id": "d44173cc0d9c2adb"
  },
  {
   "cell_type": "code",
   "execution_count": 11,
   "outputs": [
    {
     "data": {
      "text/plain": "<Figure size 640x480 with 1 Axes>",
      "image/png": "[encoded data removed]"
     },
     "metadata": {},
     "output_type": "display_data"
    }
   ],
   "source": [
    "fig, splot = plt.subplots(1)\n",
    "domain = np.arange(epochs)\n",
    "splot.plot(domain, loss_ot_train, 'g',label=\"train\")\n",
    "splot.plot(domain, loss_ot_test, 'r',label=\"test\")\n",
    "splot.legend()\n",
    "splot.title.set_text(\"Loss over time\")"
   ],
   "metadata": {
    "collapsed": false,
    "ExecuteTime": {
     "end_time": "2023-11-19T20:02:45.354635400Z",
     "start_time": "2023-11-19T20:02:45.205703900Z"
    }
   },
   "id": "4e48fcea5f0815c0"
  },
  {
   "cell_type": "markdown",
   "source": [
    "## Save the fine-tuned model"
   ],
   "metadata": {
    "collapsed": false
   },
   "id": "d5a438125c7799f7"
  },
  {
   "cell_type": "code",
   "execution_count": null,
   "outputs": [],
   "source": [
    "#torch.save(model.state_dict(), 'models/model_v1.pt')\n",
    "\n",
    "model.save_pretrained(model_name_save)\n",
    "tokenizer.save_pretrained(model_name_save)\n",
    "\n",
    "#TODO truncate model to under 100MB? save state dict only?"
   ],
   "metadata": {
    "collapsed": false
   },
   "id": "366ce5c632d79ffa"
  },
  {
   "cell_type": "markdown",
   "source": [
    "# Note Area\n",
    "\n",
    "1. asn3 mingpt\n",
    "2. asn3 hugging face"
   ],
   "metadata": {
    "collapsed": false
   },
   "id": "c3d0f4e1db2bf892"
  },
  {
   "cell_type": "markdown",
   "source": [
    "# Testing Area\n",
    "just ignore"
   ],
   "metadata": {
    "collapsed": false
   },
   "id": "bd3cdf6c87d09870"
  },
  {
   "cell_type": "code",
   "execution_count": 12,
   "outputs": [
    {
     "data": {
      "text/plain": "['This is the story of [PAWN_nameDef], a renegade engineer: After a daring escape from the prison planet with a small crew of fellow inmates, [PAWN_nameDef] set [PAWN_possessive] gaze on [PAWN_possessive] homeworld.\\n\\n[PAWN_pronoun] travelled there, recruited more followers, hijacked a space cruiser, and launched into the void.',\n 'This is the story of [PAWN_nameDef], a bounty hunter: [PAWN_nameDef] was a bounty hunter on a massive glitterworld. [PAWN_pronoun] worked sensitive assignments for extremely wealthy clients, and was known for quiet execution and total discretion.',\n 'This is the story of [PAWN_nameDef], a gardener: [PAWN_nameDef] worked at the mansion of a powerful family, tending the lavish gardens as part of a team of servants.',\n 'This is the story of [PAWN_nameDef], a nerd: [PAWN_nameDef] was curious about everything. While other kids played tag in the suburbs of their industrial city, [PAWN_nameDef] read every book [PAWN_pronoun] could find about technology, robots, and weapons - whatever looked coolest.\\n\\n[PAWN_possessive] strong French accent kept [PAWN_objective] from making real friends.',\n 'This is the story of [PAWN_nameDef], a kid scientist: Born into an influential family, [PAWN_nameDef] received the best education money could buy. [PAWN_possessive] intellect soon proved to be superior to many. However, [PAWN_possessive] lack of empathy quickly put [PAWN_objective] at odds with [PAWN_possessive] teachers and [PAWN_possessive] parents.',\n 'This is the story of [PAWN_nameDef], a tournament fighter: Motivated by the violence in [PAWN_possessive] environment, [PAWN_nameDef] studied martial arts, eventually signing up for an unarmed fighting tournament.\\n\\n        Unlike [PAWN_possessive] opponents, [PAWN_nameDef] looked to the ancient warriors for guidance. [PAWN_pronoun] trained from dusk till dawn, perfecting [PAWN_possessive] skills.',\n 'This is the story of [PAWN_nameDef], a tragic loner: [PAWN_nameDef] was involved in a traumatic accident that resulted in [PAWN_objective] killing [PAWN_possessive] own family.\\n\\nCast out from society, [PAWN_pronoun] was left with only [PAWN_possessive] animal companions and several engineering textbooks to keep [PAWN_objective] company.',\n 'This is the story of [PAWN_nameDef], a army cook: [PAWN_nameDef] joined the army as a worker and spent most of [PAWN_possessive] time cooking and repairing. While [PAWN_pronoun] was stationed on a dangerous planet, [PAWN_pronoun] underwent basic shooting and survival training.',\n 'This is the story of [PAWN_nameDef], a class clown: In the ultra-competitive environs of [PAWN_possessive] glitterworld school, [PAWN_nameDef] always offered to play the class clown to diffuse tension.\\n\\n[PAWN_pronoun] developed a sense of social desperation from this, as well as an appreciation for the artistic side of comedy.',\n 'This is the story of [PAWN_nameDef], a hermit: Worn out by the pressures of social interaction, [PAWN_nameDef] left [PAWN_possessive] crowded city to live a simple life in the wilderness. There, [PAWN_pronoun] spent [PAWN_possessive] days alone, tending [PAWN_possessive] garden and crafting the simple tools [PAWN_pronoun] needed to survive.',\n 'This is the story of [PAWN_nameDef], a crop farmer: [PAWN_nameDef] ran a crop farm. [PAWN_pronoun] analyzed soil, agricultural equipment, weather patterns, and price trends to optimize the planting and harvesting of massive crop fields.',\n 'This is the story of [PAWN_nameDef], a glitterworld nerd: [PAWN_nameDef] loved technology from the day [PAWN_pronoun] was born. [PAWN_pronoun] had a mechanoid companion which [PAWN_pronoun] tried to modify.\\n\\n[PAWN_possessive] obsession with technology meant that [PAWN_pronoun] never appreciated arts or culture.',\n 'This is the story of [PAWN_nameDef], a beast slayer: [PAWN_nameDef] traveled between planets, following news of animal attacks. [PAWN_pronoun] would camp on the planet for weeks, learning about [PAWN_possessive] prey before striking. [PAWN_pronoun] most enjoyed hunting thrumbos.\\n\\nPreferring to work alone, [PAWN_nameDef] enjoyed the thrill of the hunt, and the meat from the kill.',\n 'This is the story of [PAWN_nameDef], a envoy of the stars: [PAWN_nameDef] entered the diplomatic corps. Honor and tradition were the values [PAWN_pronoun] took with [PAWN_objective] on every mission.\\n\\n[PAWN_possessive] prestigious position distanced [PAWN_objective] from backbreaking manual labor, allowing [PAWN_objective] to focus on [PAWN_possessive] wordsmithing abilities. [PAWN_pronoun] left the blacksmithing to others.',\n 'This is the story of [PAWN_nameDef], a discarded youth: [PAWN_nameDef] grew up isolated on a trash planet. A dumping ground for surrounding glitterworlds, it was a harsh home. As a baby, [PAWN_pronoun] sucked on the tap of a discarded nutrient paste dispenser for comfort.\\n\\nIn these desperate circumstances, against all odds, [PAWN_pronoun] survived - and thrived.',\n 'This is the story of [PAWN_nameDef], a engineer: [PAWN_nameDef] found a job as a tinkering engineer on the trading hub planet Irithir. Tough local traders forced [PAWN_objective] to learn negotiation skills, and [PAWN_pronoun] made good profits selling refurbished weapons and tools.',\n 'This is the story of [PAWN_nameDef], a station security: [PAWN_nameDef] was commissioned as a special constable on a network of space stations. There [PAWN_pronoun] prevented illegal human trafficking.\\n\\nOnce, fire broke out on the station, and [PAWN_pronoun] saved many from the flames. Since then, [PAWN_pronoun] has avoided fires.',\n 'This is the story of [PAWN_nameDef], a destroyer-general: [PAWN_nameDef] held the rank of Destroyer-General in a powerful midworld military.\\n\\n[PAWN_pronoun] was known for [PAWN_possessive] mastery of weapons, and was also a good ship pilot.',\n 'This is the story of [PAWN_nameDef], a mechanoid nerd: [PAWN_nameDef] grew up in an urbworld as the only child of a pair of mechanoid designers.\\nThey encouraged [PAWN_possessive] interest in the machines. Eventually, [PAWN_pronoun] became obsessed with building [PAWN_possessive] own.\\n\\nUnfortunately this also lead to [PAWN_objective] being a loner as [PAWN_pronoun] prefered technical books to friends.',\n \"This is the story of [PAWN_nameDef], a factory drone: [PAWN_nameDef] grew up in a large factory city on an industrial world.\\n\\nSince poverty was rampant and food scarce, [PAWN_pronoun] worked for whatever wages [PAWN_pronoun] could get. This wasn't an easy life, but [PAWN_nameDef] never shied away from a hard day's work.\",\n 'This is the story of [PAWN_nameDef], a bloody wanderer: [PAWN_nameDef] was a wanderer, traveling from town to town, taking odd jobs and stealing to live.\\n\\nOne day, [PAWN_pronoun] had a mental break and went on a long rampage, destroying several towns and killing many. [PAWN_pronoun] eventually calmed, but [PAWN_possessive] bloodlust never left [PAWN_objective].',\n 'This is the story of [PAWN_nameDef], a athlete: [PAWN_nameDef] was professional athlete at early age. Thanks to [PAWN_possessive] skills, [PAWN_pronoun] was able to leave [PAWN_possessive] homeworld and enroll in a glitterworld university of science and technology.\\n\\nBecause of [PAWN_possessive] demanding schedule and introverted nature, [PAWN_pronoun] became socially inept.',\n 'This is the story of [PAWN_nameDef], a empath: [PAWN_nameDef] was an incredibly empathetic child, so much that [PAWN_pronoun] was totally overwhelmed by simple social interactions. Once, [PAWN_pronoun] stepped on a bug and felt so guilty [PAWN_pronoun] cried for an hour.\\n\\n[PAWN_nameDef] did try to use a gun one time, but it went very poorly, as the loud noise made [PAWN_objective] flinch uncontrollably.',\n \"This is the story of [PAWN_nameDef], a medieval squire: [PAWN_nameDef] grew up on a medieval planet as a knight in training. [PAWN_pronoun] trained directly under the king's war adviser for most of [PAWN_possessive] youth, and learned to fight with a sword and shield.\",\n 'This is the story of [PAWN_nameDef], a rebel slave: [PAWN_nameDef] was born into corporate slavery and raised to perform menial tasks for minimum pay. [PAWN_pronoun] was just another cog in the machine. \\n\\n[PAWN_nameDef] found [PAWN_possessive] freedom by joining a rebel organization whose goal was to break free from their corporate masters.',\n 'This is the story of [PAWN_nameDef], a foundry apprentice: [PAWN_nameDef] grew up as an apprentice in the foundries of an industrial world. This experience gave [PAWN_objective] metalworking skills and strong muscles, but stunted [PAWN_possessive] artistic development.',\n 'This is the story of [PAWN_nameDef], a game fanatic: [PAWN_nameDef] was a fanatical gamer who learned to survive in virtual reality games.\\n\\nOnce, while attempting to prove [PAWN_possessive] skills in the real world, [PAWN_pronoun] was abducted by a criminal scientist and experimented on. [PAWN_pronoun] escaped, but the experience stayed with him.',\n 'This is the story of [PAWN_nameDef], a mechanics engineer: [PAWN_nameDef] loved solving problems and, with [PAWN_possessive] steady hands and a reputation for quality work, earned a job as a mechanical engineer. [PAWN_pronoun] built and redesigned devices of all shapes and sizes.\\n\\nEventually, [PAWN_pronoun] was able to pick and choose [PAWN_possessive] corporate clients. [PAWN_pronoun] made several wealthy friends, as well as a few powerful enemies.',\n \"This is the story of [PAWN_nameDef], a traders' child: [PAWN_nameDef] grew up in a family of nomadic traders, making a living from selling and buying goods on many worlds.\\n\\n[PAWN_nameDef] learned the customs and methods of trade of many cultures by participating in [PAWN_possessive] parents' business.\",\n 'This is the story of [PAWN_nameDef], a ice planet child: Growing up on the frozen wastes of an ocean moon, [PAWN_nameDef] only had animals and a few hard-bitten sailors as companions.\\n\\nThe lack of social interaction made [PAWN_objective] develop a interest in engineering - but [PAWN_pronoun] never developed any great fondness for humans.',\n 'This is the story of [PAWN_nameDef], a child scientist: After graduating college very young, [PAWN_nameDef] devoted [PAWN_possessive] life to becoming immortal. [PAWN_pronoun] was arrested for trying to genetically modify [PAWN_objective]self.\\n\\nThe authorities released [PAWN_objective] on the condition that [PAWN_pronoun] would work in a government lab on spacecraft technology. [PAWN_pronoun] was permitted to continue [PAWN_possessive] personal research in [PAWN_possessive] free time.',\n \"This is the story of [PAWN_nameDef], a young psychologist: [PAWN_nameDef] was born and raised on a poor midworld, in the front passenger seat of [PAWN_possessive] mother's cab.\\n\\nWatching pedestrians and listening to the taxi passengers all day long, [PAWN_pronoun] soon became very good at figuring out someone's real purpose.\",\n 'This is the story of [PAWN_nameDef], a child star: [PAWN_nameDef] was well-known throughout [PAWN_possessive] homeworld as a child actor in films and TV shows. [PAWN_possessive] fame put [PAWN_objective] in contact with many different kinds of people, but also tended to get in the way of [PAWN_possessive] education.',\n \"This is the story of [PAWN_nameDef], a star squire: Born on a medieval world, [PAWN_nameDef]'s first memory is of gazing up into the night's sky. \\n\\nEver since, [PAWN_pronoun] dreamed of squiring for a knight amidst the star-filled heavens. [PAWN_possessive] focus on that vision left [PAWN_objective] somewhat single-minded.\",\n 'This is the story of [PAWN_nameDef], a evangelist: As a youth, [PAWN_nameDef] experienced a religious awakening. [PAWN_pronoun] decided to spend the rest of [PAWN_possessive] life spreading the word of [PAWN_possessive] deity, the beauty of its culture, and its unusual medical tradition.',\n 'This is the story of [PAWN_nameDef], a craft shaper: [PAWN_nameDef] locked [PAWN_objective]self in [PAWN_possessive] studio for years, ordering delivery food to save time on cooking.\\n\\nEventually, [PAWN_possessive] creations brought [PAWN_objective] the highest honor on Semantic World: Permission to materialize any design in minutes using the most advanced technologies.',\n \"This is the story of [PAWN_nameDef], a mad scientist: After finishing [PAWN_possessive] education, [PAWN_nameDef] was hired by the planet's leading genetic researcher. Later, [PAWN_pronoun] was caught running illegal, inhumane experiments.\\n\\nDespite [PAWN_possessive] family's influence, [PAWN_pronoun] was convicted and sentenced to hard labor on a penal colony.\",\n \"This is the story of [PAWN_nameDef], a reclusive child: [PAWN_nameDef] didn't learn to speak until [PAWN_pronoun] was nearly five years old. Even then [PAWN_pronoun] preferred to keep to [PAWN_objective]self.\\n\\\\nTo the chagrin of [PAWN_possessive] caretakers, [PAWN_pronoun] made a habit of wandering off to live in the wilderness for weeks at a time.\",\n 'This is the story of [PAWN_nameDef], a desert rat: [PAWN_nameDef] was born to a tribe of desert ascetics who wandered the endless wastes.\\n\\nThey sought a mythical substance they believed could liberate them from ignorance through psychedelic revelation - and usher in a new period of interstellar peace.']"
     },
     "execution_count": 12,
     "metadata": {},
     "output_type": "execute_result"
    }
   ],
   "source": [
    "sentences_test"
   ],
   "metadata": {
    "collapsed": false,
    "ExecuteTime": {
     "end_time": "2023-11-19T20:03:05.336102700Z",
     "start_time": "2023-11-19T20:03:05.331447100Z"
    }
   },
   "id": "f10a2998fe2ea6ac"
  },
  {
   "cell_type": "code",
   "execution_count": null,
   "outputs": [],
   "source": [
    "# Import the necessary modules\n",
    "from transformers import AutoTokenizer, AutoModelForCausalLM, Trainer, TrainingArguments\n",
    "import torch\n",
    "from datasets import load_dataset\n",
    "\n",
    "# Load the dataset\n",
    "#dataset = load_dataset(\"wikitext\", \"wikitext-2-raw-v1\")\n",
    "dataset = train_dataset\n",
    "\n",
    "# Preprocess the dataset\n",
    "def encode(examples):\n",
    "    input_ids = tokenizer(examples[\"text\"], return_tensors=\"pt\", add_special_tokens=False).input_ids\n",
    "    labels = input_ids.clone()\n",
    "    return {\"input_ids\": input_ids, \"labels\": labels}\n",
    "\n",
    "tokenizer = AutoTokenizer.from_pretrained(\"gpt2\")\n",
    "model = AutoModelForCausalLM.from_pretrained(\"gpt2\")\n",
    "dataset = dataset.map(encode, batched=True, remove_columns=[\"text\"])\n",
    "\n",
    "# Define the training arguments\n",
    "training_args = TrainingArguments(\n",
    "    output_dir=\"output\",\n",
    "    num_train_epochs=3,\n",
    "    per_device_train_batch_size=16,\n",
    "    learning_rate=5e-5,\n",
    "    logging_steps=100,\n",
    "    save_steps=500,\n",
    "    save_total_limit=3,\n",
    ")\n",
    "\n",
    "# Create a trainer object\n",
    "trainer = Trainer(\n",
    "    model=model,\n",
    "    args=training_args,\n",
    "    train_dataset=dataset[\"train\"],\n",
    "    eval_dataset=dataset[\"validation\"],\n",
    ")\n",
    "\n",
    "# Train the model\n",
    "trainer.train()"
   ],
   "metadata": {
    "collapsed": false
   },
   "id": "d4d68d389c4a2ae3"
  },
  {
   "cell_type": "code",
   "execution_count": null,
   "outputs": [],
   "source": [
    "import torch\n",
    "import numpy as np\n",
    "\n",
    "from nltk.tokenize import sent_tokenize\n",
    "\n",
    "from pathlib import Path\n",
    "from sklearn.model_selection import train_test_split\n",
    "from torch.utils.data import Dataset\n",
    "from torch.utils.data.dataloader import DataLoader\n",
    "#from mingpt.bpe import BPETokenizer\n",
    "#from mingpt.utils import set_seed\n",
    "#set_seed(1234)\n",
    "\"\"\"\n",
    "Prepare the dataset to train the Language Model (LM)\n",
    "This implementation splits the sentences and so doesn't create training \n",
    "examples that cross sentences.\n",
    "\n",
    "This code is set so that it uses one of two possible datasets, which were also used in Assignment 1: \n",
    "SmallSimpleCorpus.txt or LargerCorpus.txt\n",
    "\n",
    "Arguments:\n",
    "            ds_choice: str. \"small\" or \"large\". (i.e. selects which of the two datasets)\n",
    "            split: str. \"train\" or \"test\".\n",
    "            truncation: int. If -1: no truncation on sentences. Otherwise: truncate to this specific length.\n",
    "\"\"\"\n",
    "\n",
    "class LanguageModelingDataset(Dataset):\n",
    "\n",
    "    def __init__(self, ds_choice=\"small\", split=\"train\", truncation=-1):\n",
    "\n",
    "        base_path = \"./\"\n",
    "        fn = {\"small\": \"raw_data/backstory.csv\", \"large\": \"LargerCorpus.txt\"}\n",
    "        self.ds_choice = ds_choice\n",
    "        self.truncation = truncation  # int. If -1, then\n",
    "        text = Path(base_path, fn[ds_choice]).read_text()#encoding='utf-8')\n",
    "        if ds_choice == \"large\":\n",
    "            # Remove the newline char in the middle of sentences\n",
    "            # The \"paragraph splitting\" newlines appear to be \\n\\n -- remove the duplications there\n",
    "            text = text.replace(\"\\n\\n\", \"$$^^$$\").replace(\"\\n\", \" \").replace(\"$$^^$$\", \"\\n\")\n",
    "        sentences = sent_tokenize(text)\n",
    "        for i in range(10):\n",
    "            print(sentences[i])\n",
    "\n",
    "        # Train / test split\n",
    "        train, val = train_test_split(sentences, test_size=0.2, shuffle=False)\n",
    "        if split == \"train\":\n",
    "            raw_data = train\n",
    "        else:\n",
    "            raw_data = val\n",
    "\n",
    "            # Tokenize\n",
    "        self.tokenizer = tokenizer\n",
    "        self.data = []  # List of 1-d pytorch tensor\n",
    "        for sent in raw_data:\n",
    "            tokenized = self.tokenizer(sent).view(-1)  # pytorch tensor\n",
    "            if truncation >= 0:\n",
    "                self.data.append(tokenized[:truncation])\n",
    "            else:\n",
    "                self.data.append(tokenized)\n",
    "\n",
    "        # Count some items\n",
    "        self.max_sentence_length = np.max([len(d) for d in self.data])\n",
    "\n",
    "    def __len__(self):\n",
    "        return len(self.data)\n",
    "\n",
    "    def get_vocab_size(self):\n",
    "        \"\"\"\n",
    "        We have to set this to the max vocab size (i.e., that decided by the BPE tokenizer), \n",
    "        but actually, only a small number of vocab is used, especially for the small text. \n",
    "        \"\"\"\n",
    "        return 50257\n",
    "\n",
    "    def __getitem__(self, idx):\n",
    "        \"\"\"\n",
    "        The output should be a tuple x and y, both as pytorch tensors.\n",
    "        Please refer to the `run()` method in the mingpt/trainer.py script for \n",
    "        how the x and y are going to be used.\n",
    "        \"\"\"\n",
    "        x = self.data[idx][:-1]\n",
    "        y = self.data[idx][1:]\n",
    "        return (x, y)\n",
    "\n",
    "    def get_block_size(self):\n",
    "        \"\"\"\n",
    "        block_size is the size at which lines are truncated to ensure they are equal-length.\n",
    "        \"\"\"\n",
    "        return self.max_sentence_length\n",
    "\n",
    "# Instantiate the Training Dataset\n",
    "#train_dataset = LanguageModelingDataset(ds_choice=\"small\", split=\"train\")  # use this for the short corpus\n",
    "train_dataset = LanguageModelingDataset(ds_choice=\"small\", split=\"train\", truncation=512) #use this for long\n",
    "\n",
    "# Instantiate a Validation Dataset (this is only really needed for the fine-tune task, not the LM task)\n",
    "#val_dataset = LanguageModelingDataset(ds_choice=\"small\", split=\"validation\")\n",
    "#val_dataset = LanguageModelingDataset(ds_choice=\"large\", split=\"validation\", truncation=512)\n",
    "\n",
    "train_dataset"
   ],
   "metadata": {
    "collapsed": false
   },
   "id": "fa025a04b730af3a"
  },
  {
   "cell_type": "markdown",
   "source": [
    "## fix tokenize"
   ],
   "metadata": {
    "collapsed": false
   },
   "id": "f923d1487ae284f9"
  },
  {
   "cell_type": "code",
   "execution_count": null,
   "outputs": [],
   "source": [
    "import torch\n",
    "import numpy as np\n",
    "\n",
    "from nltk.tokenize import sent_tokenize\n",
    "\n",
    "from pathlib import Path\n",
    "from sklearn.model_selection import train_test_split\n",
    "from torch.utils.data import Dataset\n",
    "from torch.utils.data.dataloader import DataLoader\n",
    "#from mingpt.bpe import BPETokenizer\n",
    "#from mingpt.utils import set_seed\n",
    "#set_seed(1234)\n",
    "\"\"\"\n",
    "Prepare the dataset to train the Language Model (LM)\n",
    "This implementation splits the sentences and so doesn't create training \n",
    "examples that cross sentences.\n",
    "\n",
    "This code is set so that it uses one of two possible datasets, which were also used in Assignment 1: \n",
    "SmallSimpleCorpus.txt or LargerCorpus.txt\n",
    "\n",
    "Arguments:\n",
    "            ds_choice: str. \"small\" or \"large\". (i.e. selects which of the two datasets)\n",
    "            split: str. \"train\" or \"test\".\n",
    "            truncation: int. If -1: no truncation on sentences. Otherwise: truncate to this specific length.\n",
    "\"\"\"\n",
    "\n",
    "class LanguageModelingDataset(Dataset):\n",
    "\n",
    "    def __init__(self, ds_choice=\"small\", split=\"train\", truncation=-1):\n",
    "\n",
    "        base_path = \"./\"\n",
    "        fn = {\"small\": \"raw_data/backstory.csv\", \"large\": \"LargerCorpus.txt\"}\n",
    "        self.ds_choice = ds_choice\n",
    "        self.truncation = truncation  # int. If -1, then\n",
    "        text = Path(base_path, fn[ds_choice]).read_text()#encoding='utf-8')\n",
    "        if ds_choice == \"large\":\n",
    "            # Remove the newline char in the middle of sentences\n",
    "            # The \"paragraph splitting\" newlines appear to be \\n\\n -- remove the duplications there\n",
    "            text = text.replace(\"\\n\\n\", \"$$^^$$\").replace(\"\\n\", \" \").replace(\"$$^^$$\", \"\\n\")\n",
    "        sentences = sent_tokenize(text)\n",
    "        for i in range(10):\n",
    "            print(sentences[i])\n",
    "\n",
    "        # Train / test split\n",
    "        train, val = train_test_split(sentences, test_size=0.2, shuffle=False)\n",
    "        if split == \"train\":\n",
    "            raw_data = train\n",
    "        else:\n",
    "            raw_data = val\n",
    "\n",
    "            # Tokenize\n",
    "        self.tokenizer = tokenizer\n",
    "        self.data = []  # List of 1-d pytorch tensor\n",
    "        \n",
    "        for sent in raw_data:\n",
    "            tokenized = self.tokenizer(sent)\n",
    "            print(sent)\n",
    "            print(tokenized)\n",
    "            #tokenized = self.tokenizer(sent).view(-1)  # pytorch tensor\n",
    "            if truncation >= 0:\n",
    "                self.data.append(tokenized[:truncation])\n",
    "            else:\n",
    "                self.data.append(tokenized)\n",
    "\n",
    "        # Count some items\n",
    "        self.max_sentence_length = np.max([len(d) for d in self.data])\n",
    "\n",
    "    def __len__(self):\n",
    "        return len(self.data)\n",
    "\n",
    "    def get_vocab_size(self):\n",
    "        \"\"\"\n",
    "        We have to set this to the max vocab size (i.e., that decided by the BPE tokenizer), \n",
    "        but actually, only a small number of vocab is used, especially for the small text. \n",
    "        \"\"\"\n",
    "        return 50257\n",
    "\n",
    "    def __getitem__(self, idx):\n",
    "        \"\"\"\n",
    "        The output should be a tuple x and y, both as pytorch tensors.\n",
    "        Please refer to the `run()` method in the mingpt/trainer.py script for \n",
    "        how the x and y are going to be used.\n",
    "        \"\"\"\n",
    "        x = self.data[idx][:-1]\n",
    "        y = self.data[idx][1:]\n",
    "        return (x, y)\n",
    "\n",
    "    def get_block_size(self):\n",
    "        \"\"\"\n",
    "        block_size is the size at which lines are truncated to ensure they are equal-length.\n",
    "        \"\"\"\n",
    "        return self.max_sentence_length\n",
    "\n",
    "# Instantiate the Training Dataset\n",
    "#train_dataset = LanguageModelingDataset(ds_choice=\"small\", split=\"train\")  # use this for the short corpus\n",
    "train_dataset = LanguageModelingDataset(ds_choice=\"small\", split=\"train\", truncation=512) #use this for long\n",
    "\n",
    "# Instantiate a Validation Dataset (this is only really needed for the fine-tune task, not the LM task)\n",
    "#val_dataset = LanguageModelingDataset(ds_choice=\"small\", split=\"validation\")\n",
    "#val_dataset = LanguageModelingDataset(ds_choice=\"large\", split=\"validation\", truncation=512)\n",
    "\n",
    "train_dataset"
   ],
   "metadata": {
    "collapsed": false
   },
   "id": "a0e1ffb5bce46e56"
  },
  {
   "cell_type": "markdown",
   "source": [
    "## i have huggingface \n",
    "tokenizer = AutoTokenizer.from_pretrained(\"gpt2\")\n",
    "model = AutoModelForCausalLM.from_pretrained(\"gpt2\")\n",
    "and a pandas dataframe with a single column where each row represents sentences please write me code that makes it finetune"
   ],
   "metadata": {
    "collapsed": false
   },
   "id": "7d99507d538d66a0"
  },
  {
   "cell_type": "code",
   "execution_count": null,
   "outputs": [],
   "source": [
    "\n",
    "\n",
    "\n",
    "\n",
    "\n",
    "\n",
    "\n",
    "\n",
    "\n",
    "\n",
    "\n",
    "\n",
    "\n",
    "\n",
    "\n"
   ],
   "metadata": {
    "collapsed": false
   },
   "id": "b0f83a1c5bf9e4"
  },
  {
   "cell_type": "code",
   "execution_count": null,
   "outputs": [],
   "source": [
    "prompt =\"In rimworld, \"\n",
    "input_ids = tokenizer(prompt, return_tensors=\"pt\").input_ids.to(device)\n",
    "\n",
    "print(input_ids.get_device())\n",
    "\n",
    "\n",
    "# sample up to 30 tokens\n",
    "torch.manual_seed(11)\n",
    "list_out=[]\n",
    "#['Today I believe we can finally get rid of discrimination,\" said Rep. Mark Pocan (D-Wis.).\\n\\n\"Just look at the']\n",
    "for i in range (1):\n",
    "    for j in range (8):\n",
    "        outputs = model.generate(input_ids, do_sample=True, max_length=30, temperature =1+0.05*i,top_p=1,repetition_penalty=1.1)\n",
    "        list_out.append(outputs)\n",
    "\n",
    "\n",
    "for i in range (1):\n",
    "    for j in range (8):\n",
    "        #print(\"temperature =\",11.6+0.75*i,\"top_p=\",(j+1)/30)\n",
    "        print(tokenizer.batch_decode(list_out[i*4+j], skip_special_tokens=True))"
   ],
   "metadata": {
    "collapsed": false
   },
   "id": "5e159df507808ca7"
  },
  {
   "cell_type": "markdown",
   "source": [],
   "metadata": {
    "collapsed": false
   },
   "id": "330916891f9b4aec"
  }
 ],
 "metadata": {
  "kernelspec": {
   "display_name": "Python 3",
   "language": "python",
   "name": "python3"
  },
  "language_info": {
   "codemirror_mode": {
    "name": "ipython",
    "version": 2
   },
   "file_extension": ".py",
   "mimetype": "text/x-python",
   "name": "python",
   "nbconvert_exporter": "python",
   "pygments_lexer": "ipython2",
   "version": "2.7.6"
  }
 },
 "nbformat": 4,
 "nbformat_minor": 5
}
